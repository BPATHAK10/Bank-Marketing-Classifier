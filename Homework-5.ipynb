{
 "cells": [
  {
   "cell_type": "markdown",
   "metadata": {},
   "source": [
    "# Classifier for the Bank Marketing dataset"
   ]
  },
  {
   "cell_type": "markdown",
   "metadata": {},
   "source": [
    "## Download the dataset"
   ]
  },
  {
   "cell_type": "code",
   "execution_count": 277,
   "metadata": {},
   "outputs": [],
   "source": [
    "import pandas as pd\n",
    "# import urllib.request\n",
    "\n",
    "# Download the dataset\n",
    "# url = \"https://archive.ics.uci.edu/ml/machine-learning-databases/00222/bank-additional.zip\"\n",
    "# filename = \"bank-additional.zip\"\n",
    "\n",
    "# urllib.request.urlretrieve(url, filename)\n",
    "\n",
    "# # Unzip the file\n",
    "# import zipfile\n",
    "# with zipfile.ZipFile(filename, 'r') as zip_ref:\n",
    "#     zip_ref.extractall(\".\")\n"
   ]
  },
  {
   "cell_type": "code",
   "execution_count": 278,
   "metadata": {},
   "outputs": [],
   "source": [
    "\n",
    "# Load the dataset\n",
    "data = pd.read_csv(\"bank-additional/bank-additional-full.csv\", sep=\";\")\n"
   ]
  },
  {
   "cell_type": "code",
   "execution_count": 279,
   "metadata": {},
   "outputs": [
    {
     "name": "stdout",
     "output_type": "stream",
     "text": [
      "First few rows of the dataset:\n",
      "   age        job  marital    education  default housing loan    contact  \\\n",
      "0   56  housemaid  married     basic.4y       no      no   no  telephone   \n",
      "1   57   services  married  high.school  unknown      no   no  telephone   \n",
      "2   37   services  married  high.school       no     yes   no  telephone   \n",
      "3   40     admin.  married     basic.6y       no      no   no  telephone   \n",
      "4   56   services  married  high.school       no      no  yes  telephone   \n",
      "\n",
      "  month day_of_week  ...  campaign  pdays  previous     poutcome emp.var.rate  \\\n",
      "0   may         mon  ...         1    999         0  nonexistent          1.1   \n",
      "1   may         mon  ...         1    999         0  nonexistent          1.1   \n",
      "2   may         mon  ...         1    999         0  nonexistent          1.1   \n",
      "3   may         mon  ...         1    999         0  nonexistent          1.1   \n",
      "4   may         mon  ...         1    999         0  nonexistent          1.1   \n",
      "\n",
      "   cons.price.idx  cons.conf.idx  euribor3m  nr.employed   y  \n",
      "0          93.994          -36.4      4.857       5191.0  no  \n",
      "1          93.994          -36.4      4.857       5191.0  no  \n",
      "2          93.994          -36.4      4.857       5191.0  no  \n",
      "3          93.994          -36.4      4.857       5191.0  no  \n",
      "4          93.994          -36.4      4.857       5191.0  no  \n",
      "\n",
      "[5 rows x 21 columns]\n",
      "\n",
      "Features in the dataset:\n",
      "['age', 'job', 'marital', 'education', 'default', 'housing', 'loan', 'contact', 'month', 'day_of_week', 'duration', 'campaign', 'pdays', 'previous', 'poutcome', 'emp.var.rate', 'cons.price.idx', 'cons.conf.idx', 'euribor3m', 'nr.employed', 'y']\n"
     ]
    }
   ],
   "source": [
    "\n",
    "# Print a sample of the dataset\n",
    "print(\"First few rows of the dataset:\")\n",
    "print(data.head())\n",
    "\n",
    "# Print feature names\n",
    "print(\"\\nFeatures in the dataset:\")\n",
    "print(data.columns.tolist())\n"
   ]
  },
  {
   "cell_type": "code",
   "execution_count": 280,
   "metadata": {},
   "outputs": [
    {
     "data": {
      "text/plain": [
       "(41188, 21)"
      ]
     },
     "execution_count": 280,
     "metadata": {},
     "output_type": "execute_result"
    }
   ],
   "source": [
    "data.shape"
   ]
  },
  {
   "cell_type": "code",
   "execution_count": 281,
   "metadata": {},
   "outputs": [
    {
     "name": "stdout",
     "output_type": "stream",
     "text": [
      "\n",
      "Dataset info:\n",
      "<class 'pandas.core.frame.DataFrame'>\n",
      "RangeIndex: 41188 entries, 0 to 41187\n",
      "Data columns (total 21 columns):\n",
      " #   Column          Non-Null Count  Dtype  \n",
      "---  ------          --------------  -----  \n",
      " 0   age             41188 non-null  int64  \n",
      " 1   job             41188 non-null  object \n",
      " 2   marital         41188 non-null  object \n",
      " 3   education       41188 non-null  object \n",
      " 4   default         41188 non-null  object \n",
      " 5   housing         41188 non-null  object \n",
      " 6   loan            41188 non-null  object \n",
      " 7   contact         41188 non-null  object \n",
      " 8   month           41188 non-null  object \n",
      " 9   day_of_week     41188 non-null  object \n",
      " 10  duration        41188 non-null  int64  \n",
      " 11  campaign        41188 non-null  int64  \n",
      " 12  pdays           41188 non-null  int64  \n",
      " 13  previous        41188 non-null  int64  \n",
      " 14  poutcome        41188 non-null  object \n",
      " 15  emp.var.rate    41188 non-null  float64\n",
      " 16  cons.price.idx  41188 non-null  float64\n",
      " 17  cons.conf.idx   41188 non-null  float64\n",
      " 18  euribor3m       41188 non-null  float64\n",
      " 19  nr.employed     41188 non-null  float64\n",
      " 20  y               41188 non-null  object \n",
      "dtypes: float64(5), int64(5), object(11)\n",
      "memory usage: 6.6+ MB\n",
      "None\n"
     ]
    }
   ],
   "source": [
    "\n",
    "# Display basic information about the dataset\n",
    "print(\"\\nDataset info:\")\n",
    "print(data.info())"
   ]
  },
  {
   "cell_type": "markdown",
   "metadata": {},
   "source": [
    "## Data Preprocessing"
   ]
  },
  {
   "cell_type": "markdown",
   "metadata": {},
   "source": [
    "### encoding the categorical values\n",
    "Since most machine learning algorithms require numerical input, we need to convert categorical features into a numerical format without losing the inherent information they carry."
   ]
  },
  {
   "cell_type": "markdown",
   "metadata": {},
   "source": [
    "Categorical variables are features that represent categories or groups. They can be divided into two main types:\n",
    "\n",
    "Nominal Variables: Categories without any intrinsic order or ranking (e.g., job type, marital status).\n",
    "\n",
    "Ordinal Variables: Categories with a meaningful order or ranking (e.g., education levels)."
   ]
  },
  {
   "cell_type": "markdown",
   "metadata": {},
   "source": [
    "Categorical Variables in the Dataset\n",
    "\n",
    "Nominal Variables: job, marital, contact, month, poutcome.\n",
    "\n",
    "Ordinal Variables: education.\n",
    "\n",
    "Binary Variables: default, housing, loan, y (target variable)."
   ]
  },
  {
   "cell_type": "code",
   "execution_count": 282,
   "metadata": {},
   "outputs": [],
   "source": [
    "from sklearn.preprocessing import LabelEncoder, OneHotEncoder, OrdinalEncoder\n",
    "from sklearn.compose import ColumnTransformer"
   ]
  },
  {
   "cell_type": "code",
   "execution_count": 283,
   "metadata": {},
   "outputs": [],
   "source": [
    "# binary encoding\n",
    "binary_columns = ['default', 'housing', 'loan', 'y']\n",
    "\n",
    "# Convert binary columns to numerical integers 1 and 0\n",
    "for column in binary_columns:\n",
    "    data[column] = data[column].apply(lambda x: 1 if x == \"yes\" else 0)"
   ]
  },
  {
   "cell_type": "markdown",
   "metadata": {},
   "source": [
    "#### Handling missing values"
   ]
  },
  {
   "cell_type": "markdown",
   "metadata": {},
   "source": [
    "Handling 'unknown' Values\n",
    "\n",
    "Imputing the missing value i.e 'unknown' in the education and contact categories"
   ]
  },
  {
   "cell_type": "code",
   "execution_count": 284,
   "metadata": {},
   "outputs": [],
   "source": [
    "from sklearn.impute import SimpleImputer\n",
    "import numpy as np\n",
    "\n",
    "# Replace unknown values with the most frequent value in the column\n",
    "imputer = SimpleImputer(strategy=\"most_frequent\")\n",
    "\n",
    "\n",
    "data['education'] = data['education'].replace(\"unknown\", np.nan)\n",
    "data['contact'] = data['contact'].replace('unnknown', np.nan)\n",
    "data['poutcome'] = data['poutcome'].replace('unknown', np.nan)\n",
    "data['marital'] = data['marital'].replace('unknown', np.nan)\n",
    "data['job'] = data['job'].replace('unknown', np.nan)\n",
    "\n",
    "# Replace unknown values with the most frequent value in the column\n",
    "data['education'] = imputer.fit_transform(data['education'].values.reshape(-1, 1)).ravel()\n",
    "data['contact'] = imputer.fit_transform(data['contact'].values.reshape(-1, 1)).ravel()\n",
    "data['poutcome'] = imputer.fit_transform(data['poutcome'].values.reshape(-1, 1)).ravel()\n",
    "data['marital'] = imputer.fit_transform(data['marital'].values.reshape(-1, 1)).ravel()\n",
    "data['job'] = imputer.fit_transform(data['job'].values.reshape(-1, 1)).ravel()"
   ]
  },
  {
   "cell_type": "markdown",
   "metadata": {},
   "source": [
    "#### Encoding"
   ]
  },
  {
   "cell_type": "code",
   "execution_count": 285,
   "metadata": {},
   "outputs": [],
   "source": [
    "# use the ordinal encoder to encode the education column\n",
    "education_order = ['illiterate', 'basic.4y', 'basic.6y', 'basic.9y',\n",
    "                   'high.school', 'professional.course', 'university.degree']\n",
    "ord_enc = OrdinalEncoder(categories=[education_order])\n",
    "data[\"education\"] = ord_enc.fit_transform(data[[\"education\"]])\n"
   ]
  },
  {
   "cell_type": "code",
   "execution_count": 286,
   "metadata": {},
   "outputs": [],
   "source": [
    "# now encode the remaining categorical columns\n",
    "categorical_columns = ['job', 'marital', 'contact', 'month', 'poutcome', 'day_of_week']"
   ]
  },
  {
   "cell_type": "markdown",
   "metadata": {},
   "source": [
    "Using drop_first=True in one-hot encoding is a common and recommended practice to prevent multicollinearity in models that are sensitive to it, such as linear and logistic regression. Dropping one dummy variable does not negatively impact your model's ability to make accurate predictions because the information about the dropped category is still present implicitly. The model interprets the absence of all other categories as belonging to the reference category."
   ]
  },
  {
   "cell_type": "code",
   "execution_count": 287,
   "metadata": {},
   "outputs": [],
   "source": [
    "data = pd.get_dummies(data, columns=categorical_columns, drop_first=True, dtype=int)"
   ]
  },
  {
   "cell_type": "code",
   "execution_count": 288,
   "metadata": {},
   "outputs": [
    {
     "data": {
      "text/plain": [
       "Index(['age', 'education', 'default', 'housing', 'loan', 'duration',\n",
       "       'campaign', 'pdays', 'previous', 'emp.var.rate', 'cons.price.idx',\n",
       "       'cons.conf.idx', 'euribor3m', 'nr.employed', 'y', 'job_blue-collar',\n",
       "       'job_entrepreneur', 'job_housemaid', 'job_management', 'job_retired',\n",
       "       'job_self-employed', 'job_services', 'job_student', 'job_technician',\n",
       "       'job_unemployed', 'marital_married', 'marital_single',\n",
       "       'contact_telephone', 'month_aug', 'month_dec', 'month_jul', 'month_jun',\n",
       "       'month_mar', 'month_may', 'month_nov', 'month_oct', 'month_sep',\n",
       "       'poutcome_nonexistent', 'poutcome_success', 'day_of_week_mon',\n",
       "       'day_of_week_thu', 'day_of_week_tue', 'day_of_week_wed'],\n",
       "      dtype='object')"
      ]
     },
     "execution_count": 288,
     "metadata": {},
     "output_type": "execute_result"
    }
   ],
   "source": [
    "data.columns"
   ]
  },
  {
   "cell_type": "code",
   "execution_count": 289,
   "metadata": {},
   "outputs": [
    {
     "name": "stdout",
     "output_type": "stream",
     "text": [
      "<class 'pandas.core.frame.DataFrame'>\n",
      "RangeIndex: 41188 entries, 0 to 41187\n",
      "Data columns (total 43 columns):\n",
      " #   Column                Non-Null Count  Dtype  \n",
      "---  ------                --------------  -----  \n",
      " 0   age                   41188 non-null  int64  \n",
      " 1   education             41188 non-null  float64\n",
      " 2   default               41188 non-null  int64  \n",
      " 3   housing               41188 non-null  int64  \n",
      " 4   loan                  41188 non-null  int64  \n",
      " 5   duration              41188 non-null  int64  \n",
      " 6   campaign              41188 non-null  int64  \n",
      " 7   pdays                 41188 non-null  int64  \n",
      " 8   previous              41188 non-null  int64  \n",
      " 9   emp.var.rate          41188 non-null  float64\n",
      " 10  cons.price.idx        41188 non-null  float64\n",
      " 11  cons.conf.idx         41188 non-null  float64\n",
      " 12  euribor3m             41188 non-null  float64\n",
      " 13  nr.employed           41188 non-null  float64\n",
      " 14  y                     41188 non-null  int64  \n",
      " 15  job_blue-collar       41188 non-null  int64  \n",
      " 16  job_entrepreneur      41188 non-null  int64  \n",
      " 17  job_housemaid         41188 non-null  int64  \n",
      " 18  job_management        41188 non-null  int64  \n",
      " 19  job_retired           41188 non-null  int64  \n",
      " 20  job_self-employed     41188 non-null  int64  \n",
      " 21  job_services          41188 non-null  int64  \n",
      " 22  job_student           41188 non-null  int64  \n",
      " 23  job_technician        41188 non-null  int64  \n",
      " 24  job_unemployed        41188 non-null  int64  \n",
      " 25  marital_married       41188 non-null  int64  \n",
      " 26  marital_single        41188 non-null  int64  \n",
      " 27  contact_telephone     41188 non-null  int64  \n",
      " 28  month_aug             41188 non-null  int64  \n",
      " 29  month_dec             41188 non-null  int64  \n",
      " 30  month_jul             41188 non-null  int64  \n",
      " 31  month_jun             41188 non-null  int64  \n",
      " 32  month_mar             41188 non-null  int64  \n",
      " 33  month_may             41188 non-null  int64  \n",
      " 34  month_nov             41188 non-null  int64  \n",
      " 35  month_oct             41188 non-null  int64  \n",
      " 36  month_sep             41188 non-null  int64  \n",
      " 37  poutcome_nonexistent  41188 non-null  int64  \n",
      " 38  poutcome_success      41188 non-null  int64  \n",
      " 39  day_of_week_mon       41188 non-null  int64  \n",
      " 40  day_of_week_thu       41188 non-null  int64  \n",
      " 41  day_of_week_tue       41188 non-null  int64  \n",
      " 42  day_of_week_wed       41188 non-null  int64  \n",
      "dtypes: float64(6), int64(37)\n",
      "memory usage: 13.5 MB\n"
     ]
    }
   ],
   "source": [
    "data.info()"
   ]
  },
  {
   "cell_type": "code",
   "execution_count": 294,
   "metadata": {},
   "outputs": [
    {
     "data": {
      "text/html": [
       "<div>\n",
       "<style scoped>\n",
       "    .dataframe tbody tr th:only-of-type {\n",
       "        vertical-align: middle;\n",
       "    }\n",
       "\n",
       "    .dataframe tbody tr th {\n",
       "        vertical-align: top;\n",
       "    }\n",
       "\n",
       "    .dataframe thead th {\n",
       "        text-align: right;\n",
       "    }\n",
       "</style>\n",
       "<table border=\"1\" class=\"dataframe\">\n",
       "  <thead>\n",
       "    <tr style=\"text-align: right;\">\n",
       "      <th></th>\n",
       "      <th>age</th>\n",
       "      <th>education</th>\n",
       "      <th>default</th>\n",
       "      <th>housing</th>\n",
       "      <th>loan</th>\n",
       "      <th>duration</th>\n",
       "      <th>campaign</th>\n",
       "      <th>pdays</th>\n",
       "      <th>previous</th>\n",
       "      <th>emp.var.rate</th>\n",
       "      <th>...</th>\n",
       "      <th>month_may</th>\n",
       "      <th>month_nov</th>\n",
       "      <th>month_oct</th>\n",
       "      <th>month_sep</th>\n",
       "      <th>poutcome_nonexistent</th>\n",
       "      <th>poutcome_success</th>\n",
       "      <th>day_of_week_mon</th>\n",
       "      <th>day_of_week_thu</th>\n",
       "      <th>day_of_week_tue</th>\n",
       "      <th>day_of_week_wed</th>\n",
       "    </tr>\n",
       "  </thead>\n",
       "  <tbody>\n",
       "    <tr>\n",
       "      <th>0</th>\n",
       "      <td>56</td>\n",
       "      <td>1.0</td>\n",
       "      <td>0</td>\n",
       "      <td>0</td>\n",
       "      <td>0</td>\n",
       "      <td>261</td>\n",
       "      <td>1</td>\n",
       "      <td>-1</td>\n",
       "      <td>0</td>\n",
       "      <td>1.1</td>\n",
       "      <td>...</td>\n",
       "      <td>1</td>\n",
       "      <td>0</td>\n",
       "      <td>0</td>\n",
       "      <td>0</td>\n",
       "      <td>1</td>\n",
       "      <td>0</td>\n",
       "      <td>1</td>\n",
       "      <td>0</td>\n",
       "      <td>0</td>\n",
       "      <td>0</td>\n",
       "    </tr>\n",
       "    <tr>\n",
       "      <th>1</th>\n",
       "      <td>57</td>\n",
       "      <td>4.0</td>\n",
       "      <td>0</td>\n",
       "      <td>0</td>\n",
       "      <td>0</td>\n",
       "      <td>149</td>\n",
       "      <td>1</td>\n",
       "      <td>-1</td>\n",
       "      <td>0</td>\n",
       "      <td>1.1</td>\n",
       "      <td>...</td>\n",
       "      <td>1</td>\n",
       "      <td>0</td>\n",
       "      <td>0</td>\n",
       "      <td>0</td>\n",
       "      <td>1</td>\n",
       "      <td>0</td>\n",
       "      <td>1</td>\n",
       "      <td>0</td>\n",
       "      <td>0</td>\n",
       "      <td>0</td>\n",
       "    </tr>\n",
       "    <tr>\n",
       "      <th>2</th>\n",
       "      <td>37</td>\n",
       "      <td>4.0</td>\n",
       "      <td>0</td>\n",
       "      <td>1</td>\n",
       "      <td>0</td>\n",
       "      <td>226</td>\n",
       "      <td>1</td>\n",
       "      <td>-1</td>\n",
       "      <td>0</td>\n",
       "      <td>1.1</td>\n",
       "      <td>...</td>\n",
       "      <td>1</td>\n",
       "      <td>0</td>\n",
       "      <td>0</td>\n",
       "      <td>0</td>\n",
       "      <td>1</td>\n",
       "      <td>0</td>\n",
       "      <td>1</td>\n",
       "      <td>0</td>\n",
       "      <td>0</td>\n",
       "      <td>0</td>\n",
       "    </tr>\n",
       "    <tr>\n",
       "      <th>3</th>\n",
       "      <td>40</td>\n",
       "      <td>2.0</td>\n",
       "      <td>0</td>\n",
       "      <td>0</td>\n",
       "      <td>0</td>\n",
       "      <td>151</td>\n",
       "      <td>1</td>\n",
       "      <td>-1</td>\n",
       "      <td>0</td>\n",
       "      <td>1.1</td>\n",
       "      <td>...</td>\n",
       "      <td>1</td>\n",
       "      <td>0</td>\n",
       "      <td>0</td>\n",
       "      <td>0</td>\n",
       "      <td>1</td>\n",
       "      <td>0</td>\n",
       "      <td>1</td>\n",
       "      <td>0</td>\n",
       "      <td>0</td>\n",
       "      <td>0</td>\n",
       "    </tr>\n",
       "    <tr>\n",
       "      <th>4</th>\n",
       "      <td>56</td>\n",
       "      <td>4.0</td>\n",
       "      <td>0</td>\n",
       "      <td>0</td>\n",
       "      <td>1</td>\n",
       "      <td>307</td>\n",
       "      <td>1</td>\n",
       "      <td>-1</td>\n",
       "      <td>0</td>\n",
       "      <td>1.1</td>\n",
       "      <td>...</td>\n",
       "      <td>1</td>\n",
       "      <td>0</td>\n",
       "      <td>0</td>\n",
       "      <td>0</td>\n",
       "      <td>1</td>\n",
       "      <td>0</td>\n",
       "      <td>1</td>\n",
       "      <td>0</td>\n",
       "      <td>0</td>\n",
       "      <td>0</td>\n",
       "    </tr>\n",
       "    <tr>\n",
       "      <th>...</th>\n",
       "      <td>...</td>\n",
       "      <td>...</td>\n",
       "      <td>...</td>\n",
       "      <td>...</td>\n",
       "      <td>...</td>\n",
       "      <td>...</td>\n",
       "      <td>...</td>\n",
       "      <td>...</td>\n",
       "      <td>...</td>\n",
       "      <td>...</td>\n",
       "      <td>...</td>\n",
       "      <td>...</td>\n",
       "      <td>...</td>\n",
       "      <td>...</td>\n",
       "      <td>...</td>\n",
       "      <td>...</td>\n",
       "      <td>...</td>\n",
       "      <td>...</td>\n",
       "      <td>...</td>\n",
       "      <td>...</td>\n",
       "      <td>...</td>\n",
       "    </tr>\n",
       "    <tr>\n",
       "      <th>41183</th>\n",
       "      <td>73</td>\n",
       "      <td>5.0</td>\n",
       "      <td>0</td>\n",
       "      <td>1</td>\n",
       "      <td>0</td>\n",
       "      <td>334</td>\n",
       "      <td>1</td>\n",
       "      <td>-1</td>\n",
       "      <td>0</td>\n",
       "      <td>-1.1</td>\n",
       "      <td>...</td>\n",
       "      <td>0</td>\n",
       "      <td>1</td>\n",
       "      <td>0</td>\n",
       "      <td>0</td>\n",
       "      <td>1</td>\n",
       "      <td>0</td>\n",
       "      <td>0</td>\n",
       "      <td>0</td>\n",
       "      <td>0</td>\n",
       "      <td>0</td>\n",
       "    </tr>\n",
       "    <tr>\n",
       "      <th>41184</th>\n",
       "      <td>46</td>\n",
       "      <td>5.0</td>\n",
       "      <td>0</td>\n",
       "      <td>0</td>\n",
       "      <td>0</td>\n",
       "      <td>383</td>\n",
       "      <td>1</td>\n",
       "      <td>-1</td>\n",
       "      <td>0</td>\n",
       "      <td>-1.1</td>\n",
       "      <td>...</td>\n",
       "      <td>0</td>\n",
       "      <td>1</td>\n",
       "      <td>0</td>\n",
       "      <td>0</td>\n",
       "      <td>1</td>\n",
       "      <td>0</td>\n",
       "      <td>0</td>\n",
       "      <td>0</td>\n",
       "      <td>0</td>\n",
       "      <td>0</td>\n",
       "    </tr>\n",
       "    <tr>\n",
       "      <th>41185</th>\n",
       "      <td>56</td>\n",
       "      <td>6.0</td>\n",
       "      <td>0</td>\n",
       "      <td>1</td>\n",
       "      <td>0</td>\n",
       "      <td>189</td>\n",
       "      <td>2</td>\n",
       "      <td>-1</td>\n",
       "      <td>0</td>\n",
       "      <td>-1.1</td>\n",
       "      <td>...</td>\n",
       "      <td>0</td>\n",
       "      <td>1</td>\n",
       "      <td>0</td>\n",
       "      <td>0</td>\n",
       "      <td>1</td>\n",
       "      <td>0</td>\n",
       "      <td>0</td>\n",
       "      <td>0</td>\n",
       "      <td>0</td>\n",
       "      <td>0</td>\n",
       "    </tr>\n",
       "    <tr>\n",
       "      <th>41186</th>\n",
       "      <td>44</td>\n",
       "      <td>5.0</td>\n",
       "      <td>0</td>\n",
       "      <td>0</td>\n",
       "      <td>0</td>\n",
       "      <td>442</td>\n",
       "      <td>1</td>\n",
       "      <td>-1</td>\n",
       "      <td>0</td>\n",
       "      <td>-1.1</td>\n",
       "      <td>...</td>\n",
       "      <td>0</td>\n",
       "      <td>1</td>\n",
       "      <td>0</td>\n",
       "      <td>0</td>\n",
       "      <td>1</td>\n",
       "      <td>0</td>\n",
       "      <td>0</td>\n",
       "      <td>0</td>\n",
       "      <td>0</td>\n",
       "      <td>0</td>\n",
       "    </tr>\n",
       "    <tr>\n",
       "      <th>41187</th>\n",
       "      <td>74</td>\n",
       "      <td>5.0</td>\n",
       "      <td>0</td>\n",
       "      <td>1</td>\n",
       "      <td>0</td>\n",
       "      <td>239</td>\n",
       "      <td>3</td>\n",
       "      <td>-1</td>\n",
       "      <td>1</td>\n",
       "      <td>-1.1</td>\n",
       "      <td>...</td>\n",
       "      <td>0</td>\n",
       "      <td>1</td>\n",
       "      <td>0</td>\n",
       "      <td>0</td>\n",
       "      <td>0</td>\n",
       "      <td>0</td>\n",
       "      <td>0</td>\n",
       "      <td>0</td>\n",
       "      <td>0</td>\n",
       "      <td>0</td>\n",
       "    </tr>\n",
       "  </tbody>\n",
       "</table>\n",
       "<p>41188 rows × 43 columns</p>\n",
       "</div>"
      ],
      "text/plain": [
       "       age  education  default  housing  loan  duration  campaign  pdays  \\\n",
       "0       56        1.0        0        0     0       261         1     -1   \n",
       "1       57        4.0        0        0     0       149         1     -1   \n",
       "2       37        4.0        0        1     0       226         1     -1   \n",
       "3       40        2.0        0        0     0       151         1     -1   \n",
       "4       56        4.0        0        0     1       307         1     -1   \n",
       "...    ...        ...      ...      ...   ...       ...       ...    ...   \n",
       "41183   73        5.0        0        1     0       334         1     -1   \n",
       "41184   46        5.0        0        0     0       383         1     -1   \n",
       "41185   56        6.0        0        1     0       189         2     -1   \n",
       "41186   44        5.0        0        0     0       442         1     -1   \n",
       "41187   74        5.0        0        1     0       239         3     -1   \n",
       "\n",
       "       previous  emp.var.rate  ...  month_may  month_nov  month_oct  \\\n",
       "0             0           1.1  ...          1          0          0   \n",
       "1             0           1.1  ...          1          0          0   \n",
       "2             0           1.1  ...          1          0          0   \n",
       "3             0           1.1  ...          1          0          0   \n",
       "4             0           1.1  ...          1          0          0   \n",
       "...         ...           ...  ...        ...        ...        ...   \n",
       "41183         0          -1.1  ...          0          1          0   \n",
       "41184         0          -1.1  ...          0          1          0   \n",
       "41185         0          -1.1  ...          0          1          0   \n",
       "41186         0          -1.1  ...          0          1          0   \n",
       "41187         1          -1.1  ...          0          1          0   \n",
       "\n",
       "       month_sep  poutcome_nonexistent  poutcome_success  day_of_week_mon  \\\n",
       "0              0                     1                 0                1   \n",
       "1              0                     1                 0                1   \n",
       "2              0                     1                 0                1   \n",
       "3              0                     1                 0                1   \n",
       "4              0                     1                 0                1   \n",
       "...          ...                   ...               ...              ...   \n",
       "41183          0                     1                 0                0   \n",
       "41184          0                     1                 0                0   \n",
       "41185          0                     1                 0                0   \n",
       "41186          0                     1                 0                0   \n",
       "41187          0                     0                 0                0   \n",
       "\n",
       "       day_of_week_thu  day_of_week_tue  day_of_week_wed  \n",
       "0                    0                0                0  \n",
       "1                    0                0                0  \n",
       "2                    0                0                0  \n",
       "3                    0                0                0  \n",
       "4                    0                0                0  \n",
       "...                ...              ...              ...  \n",
       "41183                0                0                0  \n",
       "41184                0                0                0  \n",
       "41185                0                0                0  \n",
       "41186                0                0                0  \n",
       "41187                0                0                0  \n",
       "\n",
       "[41188 rows x 43 columns]"
      ]
     },
     "execution_count": 294,
     "metadata": {},
     "output_type": "execute_result"
    }
   ],
   "source": [
    "data"
   ]
  },
  {
   "cell_type": "markdown",
   "metadata": {},
   "source": [
    "### now processing the numeric features"
   ]
  },
  {
   "cell_type": "markdown",
   "metadata": {},
   "source": [
    "Handling the missing values"
   ]
  },
  {
   "cell_type": "code",
   "execution_count": 293,
   "metadata": {},
   "outputs": [],
   "source": [
    "# data['pdays'] = data['pdays'].replace(999, -1)"
   ]
  },
  {
   "cell_type": "markdown",
   "metadata": {},
   "source": [
    "#### Normalizing the features"
   ]
  },
  {
   "cell_type": "markdown",
   "metadata": {},
   "source": [
    "Normalize Continuous Numerical Features: Especially when they have different scales.\n",
    "\n",
    "Normalization Improves Algorithm Performance: For algorithms sensitive to feature scales.\n",
    "\n",
    "Use Appropriate Scaling Method: Choose between StandardScaler, MinMaxScaler, or RobustScaler based on data distribution and presence of outliers.\n",
    "\n",
    "Apply Scaling After Splitting Data: To prevent data leakage and ensure that the scaler is not influenced by the testing data."
   ]
  },
  {
   "cell_type": "code",
   "execution_count": 296,
   "metadata": {},
   "outputs": [
    {
     "data": {
      "text/plain": [
       "count    41188.000000\n",
       "mean       258.285010\n",
       "std        259.279249\n",
       "min          0.000000\n",
       "25%        102.000000\n",
       "50%        180.000000\n",
       "75%        319.000000\n",
       "max       4918.000000\n",
       "Name: duration, dtype: float64"
      ]
     },
     "execution_count": 296,
     "metadata": {},
     "output_type": "execute_result"
    }
   ],
   "source": [
    "data['duration'].describe()"
   ]
  },
  {
   "cell_type": "markdown",
   "metadata": {},
   "source": [
    "Different types of normalization\n",
    "\n",
    "1. Min-Max Scaling (Normalization)\n",
    "Transforms features to a fixed range, usually [0, 1].\n",
    "\n",
    "When to Use:\n",
    "\n",
    "When you know the boundaries of your data.\n",
    "\n",
    "Useful for algorithms that do not assume a normal distribution.\n",
    "\n",
    "\n",
    "\n",
    "2. Standardization (Z-score Normalization)\n",
    "Centers the data around the mean with a standard deviation of 1.\n",
    "\n",
    "When to Use:\n",
    "\n",
    "When the data follows a normal distribution.\n",
    "\n",
    "For algorithms that assume standard normal distribution.\n",
    "\n",
    "\n",
    "\n",
    "3. Robust Scaling\n",
    "Uses median and interquartile range, making it robust to outliers.\n",
    "\n",
    "When to Use:\n",
    "\n",
    "When your data contains outliers."
   ]
  },
  {
   "cell_type": "code",
   "execution_count": 303,
   "metadata": {},
   "outputs": [
    {
     "data": {
      "image/png": "[encoded data removed]",
      "text/plain": [
       "<Figure size 2000x2000 with 10 Axes>"
      ]
     },
     "metadata": {},
     "output_type": "display_data"
    }
   ],
   "source": [
    "import matplotlib.pyplot as plt\n",
    "\n",
    "cols_to_norm = ['age', 'duration', 'campaign', 'pdays', 'previous', 'emp.var.rate', 'cons.price.idx',\n",
    "                'cons.conf.idx', 'euribor3m', 'nr.employed']\n",
    "\n",
    "# Plot all the columns distribution \n",
    "fig, ax = plt.subplots(5, 2, figsize=(20, 20))\n",
    "for i, col in enumerate(cols_to_norm):\n",
    "    ax[i//2, i%2].hist(data[col], bins=50)\n",
    "    ax[i//2, i%2].set_title(col)\n",
    "plt.show()\n"
   ]
  }
 ],
 "metadata": {
  "kernelspec": {
   "display_name": "venv",
   "language": "python",
   "name": "python3"
  },
  "language_info": {
   "codemirror_mode": {
    "name": "ipython",
    "version": 3
   },
   "file_extension": ".py",
   "mimetype": "text/x-python",
   "name": "python",
   "nbconvert_exporter": "python",
   "pygments_lexer": "ipython3",
   "version": "3.12.6"
  }
 },
 "nbformat": 4,
 "nbformat_minor": 2
}
